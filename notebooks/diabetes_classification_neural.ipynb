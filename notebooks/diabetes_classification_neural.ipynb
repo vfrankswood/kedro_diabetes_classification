{
 "cells": [
  {
   "cell_type": "code",
   "execution_count": 50,
   "metadata": {
    "id": "2NTripwFCr2u"
   },
   "outputs": [],
   "source": [
    "!pip install -q tensorflow-data-validation"
   ]
  },
  {
   "cell_type": "code",
   "execution_count": 1,
   "metadata": {
    "id": "vSmyrOhWDV_r"
   },
   "outputs": [],
   "source": [
    "import pandas as pd\n",
    "import numpy as np\n",
    "import altair as alt\n",
    "from scipy.stats import chi2_contingency\n",
    "from sklearn.preprocessing import MinMaxScaler\n",
    "from sklearn.model_selection import train_test_split\n",
    "import tensorflow as tf\n",
    "import tensorflow_data_validation as tfdv\n",
    "from tensorflow_data_validation.statistics import stats_options as options"
   ]
  },
  {
   "cell_type": "code",
   "execution_count": 2,
   "metadata": {
    "id": "179aA5oVS5E9"
   },
   "outputs": [],
   "source": [
    "pd.options.display.float_format = '{:,.3f}'.format"
   ]
  },
  {
   "cell_type": "code",
   "execution_count": 3,
   "metadata": {
    "id": "HxYVf54yEBGv"
   },
   "outputs": [],
   "source": [
    "path = '/content/drive/MyDrive/Colab Notebooks/diabetes_classification/diabetes_data.csv'\n",
    "data = pd.read_csv(path, delimiter=';')"
   ]
  },
  {
   "cell_type": "code",
   "execution_count": 4,
   "metadata": {
    "colab": {
     "base_uri": "https://localhost:8080/",
     "height": 270
    },
    "id": "CEbjVpNWEEJ5",
    "outputId": "85371d14-e039-4cbf-df21-5203b44116ee"
   },
   "outputs": [
    {
     "data": {
      "text/html": [
       "\n",
       "  <div id=\"df-7aed3149-1936-4503-a111-d861d076b139\">\n",
       "    <div class=\"colab-df-container\">\n",
       "      <div>\n",
       "<style scoped>\n",
       "    .dataframe tbody tr th:only-of-type {\n",
       "        vertical-align: middle;\n",
       "    }\n",
       "\n",
       "    .dataframe tbody tr th {\n",
       "        vertical-align: top;\n",
       "    }\n",
       "\n",
       "    .dataframe thead th {\n",
       "        text-align: right;\n",
       "    }\n",
       "</style>\n",
       "<table border=\"1\" class=\"dataframe\">\n",
       "  <thead>\n",
       "    <tr style=\"text-align: right;\">\n",
       "      <th></th>\n",
       "      <th>age</th>\n",
       "      <th>gender</th>\n",
       "      <th>polyuria</th>\n",
       "      <th>polydipsia</th>\n",
       "      <th>sudden_weight_loss</th>\n",
       "      <th>weakness</th>\n",
       "      <th>polyphagia</th>\n",
       "      <th>genital_thrush</th>\n",
       "      <th>visual_blurring</th>\n",
       "      <th>itching</th>\n",
       "      <th>irritability</th>\n",
       "      <th>delayed_healing</th>\n",
       "      <th>partial_paresis</th>\n",
       "      <th>muscle_stiffness</th>\n",
       "      <th>alopecia</th>\n",
       "      <th>obesity</th>\n",
       "      <th>class</th>\n",
       "    </tr>\n",
       "  </thead>\n",
       "  <tbody>\n",
       "    <tr>\n",
       "      <th>0</th>\n",
       "      <td>40</td>\n",
       "      <td>Male</td>\n",
       "      <td>0</td>\n",
       "      <td>1</td>\n",
       "      <td>0</td>\n",
       "      <td>1</td>\n",
       "      <td>0</td>\n",
       "      <td>0</td>\n",
       "      <td>0</td>\n",
       "      <td>1</td>\n",
       "      <td>0</td>\n",
       "      <td>1</td>\n",
       "      <td>0</td>\n",
       "      <td>1</td>\n",
       "      <td>1</td>\n",
       "      <td>1</td>\n",
       "      <td>1</td>\n",
       "    </tr>\n",
       "    <tr>\n",
       "      <th>1</th>\n",
       "      <td>58</td>\n",
       "      <td>Male</td>\n",
       "      <td>0</td>\n",
       "      <td>0</td>\n",
       "      <td>0</td>\n",
       "      <td>1</td>\n",
       "      <td>0</td>\n",
       "      <td>0</td>\n",
       "      <td>1</td>\n",
       "      <td>0</td>\n",
       "      <td>0</td>\n",
       "      <td>0</td>\n",
       "      <td>1</td>\n",
       "      <td>0</td>\n",
       "      <td>1</td>\n",
       "      <td>0</td>\n",
       "      <td>1</td>\n",
       "    </tr>\n",
       "    <tr>\n",
       "      <th>2</th>\n",
       "      <td>41</td>\n",
       "      <td>Male</td>\n",
       "      <td>1</td>\n",
       "      <td>0</td>\n",
       "      <td>0</td>\n",
       "      <td>1</td>\n",
       "      <td>1</td>\n",
       "      <td>0</td>\n",
       "      <td>0</td>\n",
       "      <td>1</td>\n",
       "      <td>0</td>\n",
       "      <td>1</td>\n",
       "      <td>0</td>\n",
       "      <td>1</td>\n",
       "      <td>1</td>\n",
       "      <td>0</td>\n",
       "      <td>1</td>\n",
       "    </tr>\n",
       "    <tr>\n",
       "      <th>3</th>\n",
       "      <td>45</td>\n",
       "      <td>Male</td>\n",
       "      <td>0</td>\n",
       "      <td>0</td>\n",
       "      <td>1</td>\n",
       "      <td>1</td>\n",
       "      <td>1</td>\n",
       "      <td>1</td>\n",
       "      <td>0</td>\n",
       "      <td>1</td>\n",
       "      <td>0</td>\n",
       "      <td>1</td>\n",
       "      <td>0</td>\n",
       "      <td>0</td>\n",
       "      <td>0</td>\n",
       "      <td>0</td>\n",
       "      <td>1</td>\n",
       "    </tr>\n",
       "    <tr>\n",
       "      <th>4</th>\n",
       "      <td>60</td>\n",
       "      <td>Male</td>\n",
       "      <td>1</td>\n",
       "      <td>1</td>\n",
       "      <td>1</td>\n",
       "      <td>1</td>\n",
       "      <td>1</td>\n",
       "      <td>0</td>\n",
       "      <td>1</td>\n",
       "      <td>1</td>\n",
       "      <td>1</td>\n",
       "      <td>1</td>\n",
       "      <td>1</td>\n",
       "      <td>1</td>\n",
       "      <td>1</td>\n",
       "      <td>1</td>\n",
       "      <td>1</td>\n",
       "    </tr>\n",
       "  </tbody>\n",
       "</table>\n",
       "</div>\n",
       "      <button class=\"colab-df-convert\" onclick=\"convertToInteractive('df-7aed3149-1936-4503-a111-d861d076b139')\"\n",
       "              title=\"Convert this dataframe to an interactive table.\"\n",
       "              style=\"display:none;\">\n",
       "        \n",
       "  <svg xmlns=\"http://www.w3.org/2000/svg\" height=\"24px\"viewBox=\"0 0 24 24\"\n",
       "       width=\"24px\">\n",
       "    <path d=\"M0 0h24v24H0V0z\" fill=\"none\"/>\n",
       "    <path d=\"M18.56 5.44l.94 2.06.94-2.06 2.06-.94-2.06-.94-.94-2.06-.94 2.06-2.06.94zm-11 1L8.5 8.5l.94-2.06 2.06-.94-2.06-.94L8.5 2.5l-.94 2.06-2.06.94zm10 10l.94 2.06.94-2.06 2.06-.94-2.06-.94-.94-2.06-.94 2.06-2.06.94z\"/><path d=\"M17.41 7.96l-1.37-1.37c-.4-.4-.92-.59-1.43-.59-.52 0-1.04.2-1.43.59L10.3 9.45l-7.72 7.72c-.78.78-.78 2.05 0 2.83L4 21.41c.39.39.9.59 1.41.59.51 0 1.02-.2 1.41-.59l7.78-7.78 2.81-2.81c.8-.78.8-2.07 0-2.86zM5.41 20L4 18.59l7.72-7.72 1.47 1.35L5.41 20z\"/>\n",
       "  </svg>\n",
       "      </button>\n",
       "      \n",
       "  <style>\n",
       "    .colab-df-container {\n",
       "      display:flex;\n",
       "      flex-wrap:wrap;\n",
       "      gap: 12px;\n",
       "    }\n",
       "\n",
       "    .colab-df-convert {\n",
       "      background-color: #E8F0FE;\n",
       "      border: none;\n",
       "      border-radius: 50%;\n",
       "      cursor: pointer;\n",
       "      display: none;\n",
       "      fill: #1967D2;\n",
       "      height: 32px;\n",
       "      padding: 0 0 0 0;\n",
       "      width: 32px;\n",
       "    }\n",
       "\n",
       "    .colab-df-convert:hover {\n",
       "      background-color: #E2EBFA;\n",
       "      box-shadow: 0px 1px 2px rgba(60, 64, 67, 0.3), 0px 1px 3px 1px rgba(60, 64, 67, 0.15);\n",
       "      fill: #174EA6;\n",
       "    }\n",
       "\n",
       "    [theme=dark] .colab-df-convert {\n",
       "      background-color: #3B4455;\n",
       "      fill: #D2E3FC;\n",
       "    }\n",
       "\n",
       "    [theme=dark] .colab-df-convert:hover {\n",
       "      background-color: #434B5C;\n",
       "      box-shadow: 0px 1px 3px 1px rgba(0, 0, 0, 0.15);\n",
       "      filter: drop-shadow(0px 1px 2px rgba(0, 0, 0, 0.3));\n",
       "      fill: #FFFFFF;\n",
       "    }\n",
       "  </style>\n",
       "\n",
       "      <script>\n",
       "        const buttonEl =\n",
       "          document.querySelector('#df-7aed3149-1936-4503-a111-d861d076b139 button.colab-df-convert');\n",
       "        buttonEl.style.display =\n",
       "          google.colab.kernel.accessAllowed ? 'block' : 'none';\n",
       "\n",
       "        async function convertToInteractive(key) {\n",
       "          const element = document.querySelector('#df-7aed3149-1936-4503-a111-d861d076b139');\n",
       "          const dataTable =\n",
       "            await google.colab.kernel.invokeFunction('convertToInteractive',\n",
       "                                                     [key], {});\n",
       "          if (!dataTable) return;\n",
       "\n",
       "          const docLinkHtml = 'Like what you see? Visit the ' +\n",
       "            '<a target=\"_blank\" href=https://colab.research.google.com/notebooks/data_table.ipynb>data table notebook</a>'\n",
       "            + ' to learn more about interactive tables.';\n",
       "          element.innerHTML = '';\n",
       "          dataTable['output_type'] = 'display_data';\n",
       "          await google.colab.output.renderOutput(dataTable, element);\n",
       "          const docLink = document.createElement('div');\n",
       "          docLink.innerHTML = docLinkHtml;\n",
       "          element.appendChild(docLink);\n",
       "        }\n",
       "      </script>\n",
       "    </div>\n",
       "  </div>\n",
       "  "
      ],
      "text/plain": [
       "   age gender  polyuria  polydipsia  sudden_weight_loss  weakness  polyphagia  \\\n",
       "0   40   Male         0           1                   0         1           0   \n",
       "1   58   Male         0           0                   0         1           0   \n",
       "2   41   Male         1           0                   0         1           1   \n",
       "3   45   Male         0           0                   1         1           1   \n",
       "4   60   Male         1           1                   1         1           1   \n",
       "\n",
       "   genital_thrush  visual_blurring  itching  irritability  delayed_healing  \\\n",
       "0               0                0        1             0                1   \n",
       "1               0                1        0             0                0   \n",
       "2               0                0        1             0                1   \n",
       "3               1                0        1             0                1   \n",
       "4               0                1        1             1                1   \n",
       "\n",
       "   partial_paresis  muscle_stiffness  alopecia  obesity  class  \n",
       "0                0                 1         1        1      1  \n",
       "1                1                 0         1        0      1  \n",
       "2                0                 1         1        0      1  \n",
       "3                0                 0         0        0      1  \n",
       "4                1                 1         1        1      1  "
      ]
     },
     "execution_count": 4,
     "metadata": {},
     "output_type": "execute_result"
    }
   ],
   "source": [
    "data.head()"
   ]
  },
  {
   "cell_type": "code",
   "execution_count": 5,
   "metadata": {
    "id": "pRAqioULQSML"
   },
   "outputs": [],
   "source": [
    "data['gender'] = data['gender'].apply(lambda x: 1 if x=='Female' else 0)"
   ]
  },
  {
   "cell_type": "code",
   "execution_count": 6,
   "metadata": {
    "colab": {
     "base_uri": "https://localhost:8080/"
    },
    "id": "KZOhB-0zEFzJ",
    "outputId": "f5f234de-bdb9-436f-ab48-c406868223d7"
   },
   "outputs": [
    {
     "data": {
      "text/plain": [
       "1   0.615\n",
       "0   0.385\n",
       "Name: class, dtype: float64"
      ]
     },
     "execution_count": 6,
     "metadata": {},
     "output_type": "execute_result"
    }
   ],
   "source": [
    "data['class'].value_counts(normalize=True)"
   ]
  },
  {
   "cell_type": "code",
   "execution_count": 7,
   "metadata": {
    "id": "L9WTSydkJQPf"
   },
   "outputs": [],
   "source": [
    "def do_chi2(df, cols, target):\n",
    "  alpha = 0.05\n",
    "  # tabular value for DOF = 1 and  alpha=0.05\n",
    "  critical_value = 3.841\n",
    "\n",
    "  significant_cols = []\n",
    "\n",
    "  for col in cols:\n",
    "    contingency_table = pd.crosstab(df[col], df[target])\n",
    "    stat, p_val, __, __ = chi2_contingency(contingency_table)\n",
    "    \n",
    "    print(f\"For {col} p_val: {p_val}, chi2_stat: {round(stat,2)}, critical value: {critical_value}\")\n",
    "    \n",
    "    if p_val < alpha or stat > critical_value:\n",
    "      print(\"Reject the H0. Variable is significant.\")\n",
    "      significant_cols.append(col)\n",
    "    else:\n",
    "      print('Fail to reject the H0.')\n",
    "    \n",
    "  return significant_cols"
   ]
  },
  {
   "cell_type": "code",
   "execution_count": 8,
   "metadata": {
    "id": "DGqvfOScQFMH"
   },
   "outputs": [],
   "source": [
    "columns_for_chi2 = list(data.drop(['age','class'], axis=1).columns)"
   ]
  },
  {
   "cell_type": "code",
   "execution_count": 9,
   "metadata": {
    "colab": {
     "base_uri": "https://localhost:8080/"
    },
    "id": "OShFZAC5JgaG",
    "outputId": "797d264b-9bcd-4244-b87a-801c0f6ee1b5"
   },
   "outputs": [
    {
     "name": "stdout",
     "output_type": "stream",
     "text": [
      "For gender p_val: 3.289703730553294e-24, chi2_stat: 103.04, critical value: 3.841\n",
      "Reject the H0. Variable is significant.\n",
      "For polyuria p_val: 1.7409117803442155e-51, chi2_stat: 227.87, critical value: 3.841\n",
      "Reject the H0. Variable is significant.\n",
      "For polydipsia p_val: 6.1870096408863144e-49, chi2_stat: 216.17, critical value: 3.841\n",
      "Reject the H0. Variable is significant.\n",
      "For sudden_weight_loss p_val: 5.969166262549937e-23, chi2_stat: 97.3, critical value: 3.841\n",
      "Reject the H0. Variable is significant.\n",
      "For weakness p_val: 4.869843446585542e-08, chi2_stat: 29.77, critical value: 3.841\n",
      "Reject the H0. Variable is significant.\n",
      "For polyphagia p_val: 1.1651584346409135e-14, chi2_stat: 59.6, critical value: 3.841\n",
      "Reject the H0. Variable is significant.\n",
      "For genital_thrush p_val: 0.016097902991938178, chi2_stat: 5.79, critical value: 3.841\n",
      "Reject the H0. Variable is significant.\n",
      "For visual_blurring p_val: 1.7015036753241196e-08, chi2_stat: 31.81, critical value: 3.841\n",
      "Reject the H0. Variable is significant.\n",
      "For itching p_val: 0.8297483959485009, chi2_stat: 0.05, critical value: 3.841\n",
      "Fail to reject the H0.\n",
      "For irritability p_val: 1.7714831493959365e-11, chi2_stat: 45.21, critical value: 3.841\n",
      "Reject the H0. Variable is significant.\n",
      "For delayed_healing p_val: 0.32665993771439955, chi2_stat: 0.96, critical value: 3.841\n",
      "Fail to reject the H0.\n",
      "For partial_paresis p_val: 1.565289071056334e-22, chi2_stat: 95.39, critical value: 3.841\n",
      "Reject the H0. Variable is significant.\n",
      "For muscle_stiffness p_val: 0.006939095697923978, chi2_stat: 7.29, critical value: 3.841\n",
      "Reject the H0. Variable is significant.\n",
      "For alopecia p_val: 1.9092794963634e-09, chi2_stat: 36.06, critical value: 3.841\n",
      "Reject the H0. Variable is significant.\n",
      "For obesity p_val: 0.12710799319896815, chi2_stat: 2.33, critical value: 3.841\n",
      "Fail to reject the H0.\n"
     ]
    }
   ],
   "source": [
    "significant_cols = do_chi2(data, columns_for_chi2, 'class')"
   ]
  },
  {
   "cell_type": "code",
   "execution_count": 11,
   "metadata": {
    "id": "Ue4XT6KHZcHw"
   },
   "outputs": [],
   "source": [
    "scaler = MinMaxScaler()\n",
    "data['age'] = scaler.fit_transform(np.array(data['age']).reshape((-1,1)))"
   ]
  },
  {
   "cell_type": "code",
   "execution_count": 12,
   "metadata": {
    "id": "VTRWd-6oaOgX"
   },
   "outputs": [],
   "source": [
    "dataset = data[significant_cols + ['age','class']]"
   ]
  },
  {
   "cell_type": "code",
   "execution_count": 13,
   "metadata": {
    "colab": {
     "base_uri": "https://localhost:8080/",
     "height": 250
    },
    "id": "7vBSNeW9aQOn",
    "outputId": "30add992-ce9d-421c-c7bf-945f489783c0"
   },
   "outputs": [
    {
     "data": {
      "text/html": [
       "\n",
       "  <div id=\"df-511562db-23cd-4edc-8031-c8b2cefe23ae\">\n",
       "    <div class=\"colab-df-container\">\n",
       "      <div>\n",
       "<style scoped>\n",
       "    .dataframe tbody tr th:only-of-type {\n",
       "        vertical-align: middle;\n",
       "    }\n",
       "\n",
       "    .dataframe tbody tr th {\n",
       "        vertical-align: top;\n",
       "    }\n",
       "\n",
       "    .dataframe thead th {\n",
       "        text-align: right;\n",
       "    }\n",
       "</style>\n",
       "<table border=\"1\" class=\"dataframe\">\n",
       "  <thead>\n",
       "    <tr style=\"text-align: right;\">\n",
       "      <th></th>\n",
       "      <th>gender</th>\n",
       "      <th>polyuria</th>\n",
       "      <th>polydipsia</th>\n",
       "      <th>sudden_weight_loss</th>\n",
       "      <th>weakness</th>\n",
       "      <th>polyphagia</th>\n",
       "      <th>genital_thrush</th>\n",
       "      <th>visual_blurring</th>\n",
       "      <th>irritability</th>\n",
       "      <th>partial_paresis</th>\n",
       "      <th>muscle_stiffness</th>\n",
       "      <th>alopecia</th>\n",
       "      <th>age</th>\n",
       "      <th>class</th>\n",
       "    </tr>\n",
       "  </thead>\n",
       "  <tbody>\n",
       "    <tr>\n",
       "      <th>0</th>\n",
       "      <td>0</td>\n",
       "      <td>0</td>\n",
       "      <td>1</td>\n",
       "      <td>0</td>\n",
       "      <td>1</td>\n",
       "      <td>0</td>\n",
       "      <td>0</td>\n",
       "      <td>0</td>\n",
       "      <td>0</td>\n",
       "      <td>0</td>\n",
       "      <td>1</td>\n",
       "      <td>1</td>\n",
       "      <td>0.324</td>\n",
       "      <td>1</td>\n",
       "    </tr>\n",
       "    <tr>\n",
       "      <th>1</th>\n",
       "      <td>0</td>\n",
       "      <td>0</td>\n",
       "      <td>0</td>\n",
       "      <td>0</td>\n",
       "      <td>1</td>\n",
       "      <td>0</td>\n",
       "      <td>0</td>\n",
       "      <td>1</td>\n",
       "      <td>0</td>\n",
       "      <td>1</td>\n",
       "      <td>0</td>\n",
       "      <td>1</td>\n",
       "      <td>0.568</td>\n",
       "      <td>1</td>\n",
       "    </tr>\n",
       "    <tr>\n",
       "      <th>2</th>\n",
       "      <td>0</td>\n",
       "      <td>1</td>\n",
       "      <td>0</td>\n",
       "      <td>0</td>\n",
       "      <td>1</td>\n",
       "      <td>1</td>\n",
       "      <td>0</td>\n",
       "      <td>0</td>\n",
       "      <td>0</td>\n",
       "      <td>0</td>\n",
       "      <td>1</td>\n",
       "      <td>1</td>\n",
       "      <td>0.338</td>\n",
       "      <td>1</td>\n",
       "    </tr>\n",
       "    <tr>\n",
       "      <th>3</th>\n",
       "      <td>0</td>\n",
       "      <td>0</td>\n",
       "      <td>0</td>\n",
       "      <td>1</td>\n",
       "      <td>1</td>\n",
       "      <td>1</td>\n",
       "      <td>1</td>\n",
       "      <td>0</td>\n",
       "      <td>0</td>\n",
       "      <td>0</td>\n",
       "      <td>0</td>\n",
       "      <td>0</td>\n",
       "      <td>0.392</td>\n",
       "      <td>1</td>\n",
       "    </tr>\n",
       "    <tr>\n",
       "      <th>4</th>\n",
       "      <td>0</td>\n",
       "      <td>1</td>\n",
       "      <td>1</td>\n",
       "      <td>1</td>\n",
       "      <td>1</td>\n",
       "      <td>1</td>\n",
       "      <td>0</td>\n",
       "      <td>1</td>\n",
       "      <td>1</td>\n",
       "      <td>1</td>\n",
       "      <td>1</td>\n",
       "      <td>1</td>\n",
       "      <td>0.595</td>\n",
       "      <td>1</td>\n",
       "    </tr>\n",
       "  </tbody>\n",
       "</table>\n",
       "</div>\n",
       "      <button class=\"colab-df-convert\" onclick=\"convertToInteractive('df-511562db-23cd-4edc-8031-c8b2cefe23ae')\"\n",
       "              title=\"Convert this dataframe to an interactive table.\"\n",
       "              style=\"display:none;\">\n",
       "        \n",
       "  <svg xmlns=\"http://www.w3.org/2000/svg\" height=\"24px\"viewBox=\"0 0 24 24\"\n",
       "       width=\"24px\">\n",
       "    <path d=\"M0 0h24v24H0V0z\" fill=\"none\"/>\n",
       "    <path d=\"M18.56 5.44l.94 2.06.94-2.06 2.06-.94-2.06-.94-.94-2.06-.94 2.06-2.06.94zm-11 1L8.5 8.5l.94-2.06 2.06-.94-2.06-.94L8.5 2.5l-.94 2.06-2.06.94zm10 10l.94 2.06.94-2.06 2.06-.94-2.06-.94-.94-2.06-.94 2.06-2.06.94z\"/><path d=\"M17.41 7.96l-1.37-1.37c-.4-.4-.92-.59-1.43-.59-.52 0-1.04.2-1.43.59L10.3 9.45l-7.72 7.72c-.78.78-.78 2.05 0 2.83L4 21.41c.39.39.9.59 1.41.59.51 0 1.02-.2 1.41-.59l7.78-7.78 2.81-2.81c.8-.78.8-2.07 0-2.86zM5.41 20L4 18.59l7.72-7.72 1.47 1.35L5.41 20z\"/>\n",
       "  </svg>\n",
       "      </button>\n",
       "      \n",
       "  <style>\n",
       "    .colab-df-container {\n",
       "      display:flex;\n",
       "      flex-wrap:wrap;\n",
       "      gap: 12px;\n",
       "    }\n",
       "\n",
       "    .colab-df-convert {\n",
       "      background-color: #E8F0FE;\n",
       "      border: none;\n",
       "      border-radius: 50%;\n",
       "      cursor: pointer;\n",
       "      display: none;\n",
       "      fill: #1967D2;\n",
       "      height: 32px;\n",
       "      padding: 0 0 0 0;\n",
       "      width: 32px;\n",
       "    }\n",
       "\n",
       "    .colab-df-convert:hover {\n",
       "      background-color: #E2EBFA;\n",
       "      box-shadow: 0px 1px 2px rgba(60, 64, 67, 0.3), 0px 1px 3px 1px rgba(60, 64, 67, 0.15);\n",
       "      fill: #174EA6;\n",
       "    }\n",
       "\n",
       "    [theme=dark] .colab-df-convert {\n",
       "      background-color: #3B4455;\n",
       "      fill: #D2E3FC;\n",
       "    }\n",
       "\n",
       "    [theme=dark] .colab-df-convert:hover {\n",
       "      background-color: #434B5C;\n",
       "      box-shadow: 0px 1px 3px 1px rgba(0, 0, 0, 0.15);\n",
       "      filter: drop-shadow(0px 1px 2px rgba(0, 0, 0, 0.3));\n",
       "      fill: #FFFFFF;\n",
       "    }\n",
       "  </style>\n",
       "\n",
       "      <script>\n",
       "        const buttonEl =\n",
       "          document.querySelector('#df-511562db-23cd-4edc-8031-c8b2cefe23ae button.colab-df-convert');\n",
       "        buttonEl.style.display =\n",
       "          google.colab.kernel.accessAllowed ? 'block' : 'none';\n",
       "\n",
       "        async function convertToInteractive(key) {\n",
       "          const element = document.querySelector('#df-511562db-23cd-4edc-8031-c8b2cefe23ae');\n",
       "          const dataTable =\n",
       "            await google.colab.kernel.invokeFunction('convertToInteractive',\n",
       "                                                     [key], {});\n",
       "          if (!dataTable) return;\n",
       "\n",
       "          const docLinkHtml = 'Like what you see? Visit the ' +\n",
       "            '<a target=\"_blank\" href=https://colab.research.google.com/notebooks/data_table.ipynb>data table notebook</a>'\n",
       "            + ' to learn more about interactive tables.';\n",
       "          element.innerHTML = '';\n",
       "          dataTable['output_type'] = 'display_data';\n",
       "          await google.colab.output.renderOutput(dataTable, element);\n",
       "          const docLink = document.createElement('div');\n",
       "          docLink.innerHTML = docLinkHtml;\n",
       "          element.appendChild(docLink);\n",
       "        }\n",
       "      </script>\n",
       "    </div>\n",
       "  </div>\n",
       "  "
      ],
      "text/plain": [
       "   gender  polyuria  polydipsia  sudden_weight_loss  weakness  polyphagia  \\\n",
       "0       0         0           1                   0         1           0   \n",
       "1       0         0           0                   0         1           0   \n",
       "2       0         1           0                   0         1           1   \n",
       "3       0         0           0                   1         1           1   \n",
       "4       0         1           1                   1         1           1   \n",
       "\n",
       "   genital_thrush  visual_blurring  irritability  partial_paresis  \\\n",
       "0               0                0             0                0   \n",
       "1               0                1             0                1   \n",
       "2               0                0             0                0   \n",
       "3               1                0             0                0   \n",
       "4               0                1             1                1   \n",
       "\n",
       "   muscle_stiffness  alopecia   age  class  \n",
       "0                 1         1 0.324      1  \n",
       "1                 0         1 0.568      1  \n",
       "2                 1         1 0.338      1  \n",
       "3                 0         0 0.392      1  \n",
       "4                 1         1 0.595      1  "
      ]
     },
     "execution_count": 13,
     "metadata": {},
     "output_type": "execute_result"
    }
   ],
   "source": [
    "dataset.head()"
   ]
  },
  {
   "cell_type": "code",
   "execution_count": 14,
   "metadata": {
    "id": "TnBcWWPFcFZu"
   },
   "outputs": [],
   "source": [
    "X = dataset[dataset.columns[:-1]].values\n",
    "y = dataset[dataset.columns[-1]].values\n"
   ]
  },
  {
   "cell_type": "code",
   "execution_count": 15,
   "metadata": {
    "id": "Z2jAKxL6csYx"
   },
   "outputs": [],
   "source": [
    "X_train, X_temp, y_train, y_temp = train_test_split(X,y, test_size=0.4, random_state=0)\n",
    "X_valid, X_test, y_valid, y_test = train_test_split(X_temp,y_temp, test_size=0.5, random_state=0)"
   ]
  },
  {
   "cell_type": "code",
   "execution_count": 16,
   "metadata": {
    "id": "20LtgyxEctKG"
   },
   "outputs": [],
   "source": [
    "model = tf.keras.Sequential([\n",
    "                             tf.keras.layers.Dense(16, activation='relu'),\n",
    "                             tf.keras.layers.Dense(16, activation='relu'),\n",
    "                             tf.keras.layers.Dense(1, activation='sigmoid')\n",
    "])"
   ]
  },
  {
   "cell_type": "code",
   "execution_count": 17,
   "metadata": {
    "id": "9LnIMsXjePF7"
   },
   "outputs": [],
   "source": [
    "model.compile(optimizer=tf.keras.optimizers.Adam(learning_rate=0.001),\n",
    "              loss=tf.keras.losses.BinaryCrossentropy(),\n",
    "              metrics=['accuracy'])"
   ]
  },
  {
   "cell_type": "code",
   "execution_count": 18,
   "metadata": {
    "colab": {
     "base_uri": "https://localhost:8080/"
    },
    "id": "uZ84HUfQebuT",
    "outputId": "8e33a56e-f4f3-4d58-958a-3896ad577d15"
   },
   "outputs": [
    {
     "name": "stdout",
     "output_type": "stream",
     "text": [
      "Epoch 1/30\n",
      "20/20 [==============================] - 1s 14ms/step - loss: 0.7023 - accuracy: 0.4872 - val_loss: 0.6546 - val_accuracy: 0.6442\n",
      "Epoch 2/30\n",
      "20/20 [==============================] - 0s 3ms/step - loss: 0.6088 - accuracy: 0.6474 - val_loss: 0.5841 - val_accuracy: 0.6154\n",
      "Epoch 3/30\n",
      "20/20 [==============================] - 0s 4ms/step - loss: 0.5411 - accuracy: 0.6571 - val_loss: 0.5299 - val_accuracy: 0.6538\n",
      "Epoch 4/30\n",
      "20/20 [==============================] - 0s 3ms/step - loss: 0.4927 - accuracy: 0.7468 - val_loss: 0.4825 - val_accuracy: 0.7692\n",
      "Epoch 5/30\n",
      "20/20 [==============================] - 0s 4ms/step - loss: 0.4480 - accuracy: 0.8109 - val_loss: 0.4392 - val_accuracy: 0.8269\n",
      "Epoch 6/30\n",
      "20/20 [==============================] - 0s 4ms/step - loss: 0.4048 - accuracy: 0.8942 - val_loss: 0.4007 - val_accuracy: 0.8846\n",
      "Epoch 7/30\n",
      "20/20 [==============================] - 0s 3ms/step - loss: 0.3661 - accuracy: 0.8974 - val_loss: 0.3688 - val_accuracy: 0.9135\n",
      "Epoch 8/30\n",
      "20/20 [==============================] - 0s 4ms/step - loss: 0.3318 - accuracy: 0.9071 - val_loss: 0.3392 - val_accuracy: 0.9038\n",
      "Epoch 9/30\n",
      "20/20 [==============================] - 0s 5ms/step - loss: 0.3015 - accuracy: 0.9103 - val_loss: 0.3163 - val_accuracy: 0.9038\n",
      "Epoch 10/30\n",
      "20/20 [==============================] - 0s 5ms/step - loss: 0.2780 - accuracy: 0.9199 - val_loss: 0.2993 - val_accuracy: 0.9038\n",
      "Epoch 11/30\n",
      "20/20 [==============================] - 0s 4ms/step - loss: 0.2593 - accuracy: 0.9199 - val_loss: 0.2838 - val_accuracy: 0.9038\n",
      "Epoch 12/30\n",
      "20/20 [==============================] - 0s 5ms/step - loss: 0.2441 - accuracy: 0.9199 - val_loss: 0.2727 - val_accuracy: 0.9038\n",
      "Epoch 13/30\n",
      "20/20 [==============================] - 0s 4ms/step - loss: 0.2317 - accuracy: 0.9199 - val_loss: 0.2638 - val_accuracy: 0.9038\n",
      "Epoch 14/30\n",
      "20/20 [==============================] - 0s 4ms/step - loss: 0.2208 - accuracy: 0.9199 - val_loss: 0.2553 - val_accuracy: 0.9135\n",
      "Epoch 15/30\n",
      "20/20 [==============================] - 0s 5ms/step - loss: 0.2122 - accuracy: 0.9295 - val_loss: 0.2513 - val_accuracy: 0.9135\n",
      "Epoch 16/30\n",
      "20/20 [==============================] - 0s 4ms/step - loss: 0.2033 - accuracy: 0.9295 - val_loss: 0.2439 - val_accuracy: 0.9135\n",
      "Epoch 17/30\n",
      "20/20 [==============================] - 0s 3ms/step - loss: 0.1968 - accuracy: 0.9327 - val_loss: 0.2390 - val_accuracy: 0.9135\n",
      "Epoch 18/30\n",
      "20/20 [==============================] - 0s 4ms/step - loss: 0.1906 - accuracy: 0.9231 - val_loss: 0.2369 - val_accuracy: 0.9231\n",
      "Epoch 19/30\n",
      "20/20 [==============================] - 0s 4ms/step - loss: 0.1851 - accuracy: 0.9327 - val_loss: 0.2369 - val_accuracy: 0.9231\n",
      "Epoch 20/30\n",
      "20/20 [==============================] - 0s 4ms/step - loss: 0.1790 - accuracy: 0.9455 - val_loss: 0.2299 - val_accuracy: 0.9327\n",
      "Epoch 21/30\n",
      "20/20 [==============================] - 0s 4ms/step - loss: 0.1754 - accuracy: 0.9551 - val_loss: 0.2274 - val_accuracy: 0.9327\n",
      "Epoch 22/30\n",
      "20/20 [==============================] - 0s 5ms/step - loss: 0.1693 - accuracy: 0.9551 - val_loss: 0.2269 - val_accuracy: 0.9327\n",
      "Epoch 23/30\n",
      "20/20 [==============================] - 0s 5ms/step - loss: 0.1649 - accuracy: 0.9519 - val_loss: 0.2263 - val_accuracy: 0.9327\n",
      "Epoch 24/30\n",
      "20/20 [==============================] - 0s 4ms/step - loss: 0.1624 - accuracy: 0.9551 - val_loss: 0.2205 - val_accuracy: 0.9423\n",
      "Epoch 25/30\n",
      "20/20 [==============================] - 0s 4ms/step - loss: 0.1558 - accuracy: 0.9615 - val_loss: 0.2212 - val_accuracy: 0.9423\n",
      "Epoch 26/30\n",
      "20/20 [==============================] - 0s 4ms/step - loss: 0.1529 - accuracy: 0.9583 - val_loss: 0.2171 - val_accuracy: 0.9423\n",
      "Epoch 27/30\n",
      "20/20 [==============================] - 0s 3ms/step - loss: 0.1485 - accuracy: 0.9551 - val_loss: 0.2185 - val_accuracy: 0.9423\n",
      "Epoch 28/30\n",
      "20/20 [==============================] - 0s 6ms/step - loss: 0.1441 - accuracy: 0.9615 - val_loss: 0.2143 - val_accuracy: 0.9423\n",
      "Epoch 29/30\n",
      "20/20 [==============================] - 0s 5ms/step - loss: 0.1409 - accuracy: 0.9551 - val_loss: 0.2137 - val_accuracy: 0.9423\n",
      "Epoch 30/30\n",
      "20/20 [==============================] - 0s 3ms/step - loss: 0.1376 - accuracy: 0.9551 - val_loss: 0.2132 - val_accuracy: 0.9423\n"
     ]
    },
    {
     "data": {
      "text/plain": [
       "<keras.callbacks.History at 0x7fa9dd50ad10>"
      ]
     },
     "execution_count": 18,
     "metadata": {},
     "output_type": "execute_result"
    }
   ],
   "source": [
    "model.fit(X_train, y_train, batch_size=16, epochs=30, validation_data=(X_valid, y_valid))"
   ]
  },
  {
   "cell_type": "code",
   "execution_count": 19,
   "metadata": {
    "colab": {
     "base_uri": "https://localhost:8080/"
    },
    "id": "u08SpLReefBI",
    "outputId": "83d86bab-5fc3-4c7f-d577-e23d58259177"
   },
   "outputs": [
    {
     "name": "stdout",
     "output_type": "stream",
     "text": [
      "4/4 [==============================] - 0s 3ms/step - loss: 0.1907 - accuracy: 0.9423\n"
     ]
    }
   ],
   "source": [
    "result = model.evaluate(X_test, y_test)"
   ]
  },
  {
   "cell_type": "code",
   "execution_count": 20,
   "metadata": {
    "colab": {
     "base_uri": "https://localhost:8080/"
    },
    "id": "D3OF4h-YfLdv",
    "outputId": "270037aa-f11b-4c0c-9a81-e3c19333d16a"
   },
   "outputs": [
    {
     "data": {
      "text/plain": [
       "[0.19068874418735504, 0.942307710647583]"
      ]
     },
     "execution_count": 20,
     "metadata": {},
     "output_type": "execute_result"
    }
   ],
   "source": [
    "result"
   ]
  },
  {
   "cell_type": "markdown",
   "metadata": {
    "id": "b2GH18ltMmyY"
   },
   "source": [
    "# Tensorflow Data Validation"
   ]
  },
  {
   "cell_type": "code",
   "execution_count": 30,
   "metadata": {
    "colab": {
     "base_uri": "https://localhost:8080/"
    },
    "id": "Ob4dZDduFZwN",
    "outputId": "a49eaf77-ebea-40c9-93e3-173a10635b82"
   },
   "outputs": [
    {
     "name": "stderr",
     "output_type": "stream",
     "text": [
      "/usr/local/lib/python3.7/dist-packages/pandas/core/frame.py:3641: SettingWithCopyWarning: \n",
      "A value is trying to be set on a copy of a slice from a DataFrame.\n",
      "Try using .loc[row_indexer,col_indexer] = value instead\n",
      "\n",
      "See the caveats in the documentation: https://pandas.pydata.org/pandas-docs/stable/user_guide/indexing.html#returning-a-view-versus-a-copy\n",
      "  self[k1] = value[k2]\n"
     ]
    }
   ],
   "source": [
    "X_df = dataset[dataset.columns[:-1]]\n",
    "y_df = dataset[dataset.columns[-1]]\n",
    "\n",
    "X_df[significant_cols] = X_df[significant_cols].astype('bool')\n",
    "\n",
    "X_train_df, X_temp_df, y_train_df, y_temp_df = train_test_split(X_df,y_df, test_size=0.4, random_state=0)\n",
    "X_valid_df, X_test_df, y_valid_df, y_test_df = train_test_split(X_temp_df,y_temp_df, test_size=0.5, random_state=0)"
   ]
  },
  {
   "cell_type": "code",
   "execution_count": 31,
   "metadata": {
    "id": "UYJt-SVnAazG"
   },
   "outputs": [],
   "source": [
    "X_train_df_stats=tfdv.generate_statistics_from_dataframe(X_train_df)\n",
    "schema = tfdv.infer_schema(statistics=X_train_df_stats)"
   ]
  },
  {
   "cell_type": "code",
   "execution_count": 42,
   "metadata": {
    "colab": {
     "base_uri": "https://localhost:8080/",
     "height": 488
    },
    "id": "W9hDSbubGTyU",
    "outputId": "a68bcf72-a667-4dff-b9cd-94c725983f10"
   },
   "outputs": [
    {
     "data": {
      "text/html": [
       "\n",
       "  <div id=\"df-d184de7d-d49e-486e-93ff-63a594cdff50\">\n",
       "    <div class=\"colab-df-container\">\n",
       "      <div>\n",
       "<style scoped>\n",
       "    .dataframe tbody tr th:only-of-type {\n",
       "        vertical-align: middle;\n",
       "    }\n",
       "\n",
       "    .dataframe tbody tr th {\n",
       "        vertical-align: top;\n",
       "    }\n",
       "\n",
       "    .dataframe thead th {\n",
       "        text-align: right;\n",
       "    }\n",
       "</style>\n",
       "<table border=\"1\" class=\"dataframe\">\n",
       "  <thead>\n",
       "    <tr style=\"text-align: right;\">\n",
       "      <th></th>\n",
       "      <th>Type</th>\n",
       "      <th>Presence</th>\n",
       "      <th>Valency</th>\n",
       "      <th>Domain</th>\n",
       "    </tr>\n",
       "    <tr>\n",
       "      <th>Feature name</th>\n",
       "      <th></th>\n",
       "      <th></th>\n",
       "      <th></th>\n",
       "      <th></th>\n",
       "    </tr>\n",
       "  </thead>\n",
       "  <tbody>\n",
       "    <tr>\n",
       "      <th>'gender'</th>\n",
       "      <td>INT</td>\n",
       "      <td>required</td>\n",
       "      <td></td>\n",
       "      <td>-</td>\n",
       "    </tr>\n",
       "    <tr>\n",
       "      <th>'polyuria'</th>\n",
       "      <td>INT</td>\n",
       "      <td>required</td>\n",
       "      <td></td>\n",
       "      <td>-</td>\n",
       "    </tr>\n",
       "    <tr>\n",
       "      <th>'polydipsia'</th>\n",
       "      <td>INT</td>\n",
       "      <td>required</td>\n",
       "      <td></td>\n",
       "      <td>-</td>\n",
       "    </tr>\n",
       "    <tr>\n",
       "      <th>'sudden_weight_loss'</th>\n",
       "      <td>INT</td>\n",
       "      <td>required</td>\n",
       "      <td></td>\n",
       "      <td>-</td>\n",
       "    </tr>\n",
       "    <tr>\n",
       "      <th>'weakness'</th>\n",
       "      <td>INT</td>\n",
       "      <td>required</td>\n",
       "      <td></td>\n",
       "      <td>-</td>\n",
       "    </tr>\n",
       "    <tr>\n",
       "      <th>'polyphagia'</th>\n",
       "      <td>INT</td>\n",
       "      <td>required</td>\n",
       "      <td></td>\n",
       "      <td>-</td>\n",
       "    </tr>\n",
       "    <tr>\n",
       "      <th>'genital_thrush'</th>\n",
       "      <td>INT</td>\n",
       "      <td>required</td>\n",
       "      <td></td>\n",
       "      <td>-</td>\n",
       "    </tr>\n",
       "    <tr>\n",
       "      <th>'visual_blurring'</th>\n",
       "      <td>INT</td>\n",
       "      <td>required</td>\n",
       "      <td></td>\n",
       "      <td>-</td>\n",
       "    </tr>\n",
       "    <tr>\n",
       "      <th>'irritability'</th>\n",
       "      <td>INT</td>\n",
       "      <td>required</td>\n",
       "      <td></td>\n",
       "      <td>-</td>\n",
       "    </tr>\n",
       "    <tr>\n",
       "      <th>'partial_paresis'</th>\n",
       "      <td>INT</td>\n",
       "      <td>required</td>\n",
       "      <td></td>\n",
       "      <td>-</td>\n",
       "    </tr>\n",
       "    <tr>\n",
       "      <th>'muscle_stiffness'</th>\n",
       "      <td>INT</td>\n",
       "      <td>required</td>\n",
       "      <td></td>\n",
       "      <td>-</td>\n",
       "    </tr>\n",
       "    <tr>\n",
       "      <th>'alopecia'</th>\n",
       "      <td>INT</td>\n",
       "      <td>required</td>\n",
       "      <td></td>\n",
       "      <td>-</td>\n",
       "    </tr>\n",
       "    <tr>\n",
       "      <th>'age'</th>\n",
       "      <td>FLOAT</td>\n",
       "      <td>required</td>\n",
       "      <td></td>\n",
       "      <td>-</td>\n",
       "    </tr>\n",
       "  </tbody>\n",
       "</table>\n",
       "</div>\n",
       "      <button class=\"colab-df-convert\" onclick=\"convertToInteractive('df-d184de7d-d49e-486e-93ff-63a594cdff50')\"\n",
       "              title=\"Convert this dataframe to an interactive table.\"\n",
       "              style=\"display:none;\">\n",
       "        \n",
       "  <svg xmlns=\"http://www.w3.org/2000/svg\" height=\"24px\"viewBox=\"0 0 24 24\"\n",
       "       width=\"24px\">\n",
       "    <path d=\"M0 0h24v24H0V0z\" fill=\"none\"/>\n",
       "    <path d=\"M18.56 5.44l.94 2.06.94-2.06 2.06-.94-2.06-.94-.94-2.06-.94 2.06-2.06.94zm-11 1L8.5 8.5l.94-2.06 2.06-.94-2.06-.94L8.5 2.5l-.94 2.06-2.06.94zm10 10l.94 2.06.94-2.06 2.06-.94-2.06-.94-.94-2.06-.94 2.06-2.06.94z\"/><path d=\"M17.41 7.96l-1.37-1.37c-.4-.4-.92-.59-1.43-.59-.52 0-1.04.2-1.43.59L10.3 9.45l-7.72 7.72c-.78.78-.78 2.05 0 2.83L4 21.41c.39.39.9.59 1.41.59.51 0 1.02-.2 1.41-.59l7.78-7.78 2.81-2.81c.8-.78.8-2.07 0-2.86zM5.41 20L4 18.59l7.72-7.72 1.47 1.35L5.41 20z\"/>\n",
       "  </svg>\n",
       "      </button>\n",
       "      \n",
       "  <style>\n",
       "    .colab-df-container {\n",
       "      display:flex;\n",
       "      flex-wrap:wrap;\n",
       "      gap: 12px;\n",
       "    }\n",
       "\n",
       "    .colab-df-convert {\n",
       "      background-color: #E8F0FE;\n",
       "      border: none;\n",
       "      border-radius: 50%;\n",
       "      cursor: pointer;\n",
       "      display: none;\n",
       "      fill: #1967D2;\n",
       "      height: 32px;\n",
       "      padding: 0 0 0 0;\n",
       "      width: 32px;\n",
       "    }\n",
       "\n",
       "    .colab-df-convert:hover {\n",
       "      background-color: #E2EBFA;\n",
       "      box-shadow: 0px 1px 2px rgba(60, 64, 67, 0.3), 0px 1px 3px 1px rgba(60, 64, 67, 0.15);\n",
       "      fill: #174EA6;\n",
       "    }\n",
       "\n",
       "    [theme=dark] .colab-df-convert {\n",
       "      background-color: #3B4455;\n",
       "      fill: #D2E3FC;\n",
       "    }\n",
       "\n",
       "    [theme=dark] .colab-df-convert:hover {\n",
       "      background-color: #434B5C;\n",
       "      box-shadow: 0px 1px 3px 1px rgba(0, 0, 0, 0.15);\n",
       "      filter: drop-shadow(0px 1px 2px rgba(0, 0, 0, 0.3));\n",
       "      fill: #FFFFFF;\n",
       "    }\n",
       "  </style>\n",
       "\n",
       "      <script>\n",
       "        const buttonEl =\n",
       "          document.querySelector('#df-d184de7d-d49e-486e-93ff-63a594cdff50 button.colab-df-convert');\n",
       "        buttonEl.style.display =\n",
       "          google.colab.kernel.accessAllowed ? 'block' : 'none';\n",
       "\n",
       "        async function convertToInteractive(key) {\n",
       "          const element = document.querySelector('#df-d184de7d-d49e-486e-93ff-63a594cdff50');\n",
       "          const dataTable =\n",
       "            await google.colab.kernel.invokeFunction('convertToInteractive',\n",
       "                                                     [key], {});\n",
       "          if (!dataTable) return;\n",
       "\n",
       "          const docLinkHtml = 'Like what you see? Visit the ' +\n",
       "            '<a target=\"_blank\" href=https://colab.research.google.com/notebooks/data_table.ipynb>data table notebook</a>'\n",
       "            + ' to learn more about interactive tables.';\n",
       "          element.innerHTML = '';\n",
       "          dataTable['output_type'] = 'display_data';\n",
       "          await google.colab.output.renderOutput(dataTable, element);\n",
       "          const docLink = document.createElement('div');\n",
       "          docLink.innerHTML = docLinkHtml;\n",
       "          element.appendChild(docLink);\n",
       "        }\n",
       "      </script>\n",
       "    </div>\n",
       "  </div>\n",
       "  "
      ],
      "text/plain": [
       "                       Type  Presence Valency Domain\n",
       "Feature name                                        \n",
       "'gender'                INT  required              -\n",
       "'polyuria'              INT  required              -\n",
       "'polydipsia'            INT  required              -\n",
       "'sudden_weight_loss'    INT  required              -\n",
       "'weakness'              INT  required              -\n",
       "'polyphagia'            INT  required              -\n",
       "'genital_thrush'        INT  required              -\n",
       "'visual_blurring'       INT  required              -\n",
       "'irritability'          INT  required              -\n",
       "'partial_paresis'       INT  required              -\n",
       "'muscle_stiffness'      INT  required              -\n",
       "'alopecia'              INT  required              -\n",
       "'age'                 FLOAT  required              -"
      ]
     },
     "metadata": {},
     "output_type": "display_data"
    }
   ],
   "source": [
    "tfdv.display_schema(schema=schema)"
   ]
  },
  {
   "cell_type": "code",
   "execution_count": 43,
   "metadata": {
    "id": "uOmw4iICGuKw"
   },
   "outputs": [],
   "source": [
    "X_test_df_stats=tfdv.generate_statistics_from_dataframe(X_test_df)"
   ]
  },
  {
   "cell_type": "code",
   "execution_count": 44,
   "metadata": {
    "colab": {
     "base_uri": "https://localhost:8080/",
     "height": 1000
    },
    "id": "33hRTyVyJBF3",
    "outputId": "70d8eac3-16e6-4436-a975-23ab37048817"
   },
   "outputs": [
    {
     "data": {
      "text/html": [
       "<iframe id='facets-iframe' width=\"100%\" height=\"500px\"></iframe>\n",
       "        <script>\n",
       "        facets_iframe = document.getElementById('facets-iframe');\n",
       "        facets_html = '<script src=\"https://cdnjs.cloudflare.com/ajax/libs/webcomponentsjs/1.3.3/webcomponents-lite.js\"><\\/script><link rel=\"import\" href=\"https://raw.githubusercontent.com/PAIR-code/facets/master/facets-dist/facets-jupyter.html\"><facets-overview proto-input=\"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\"></facets-overview>';\n",
       "        facets_iframe.srcdoc = facets_html;\n",
       "         facets_iframe.id = \"\";\n",
       "         setTimeout(() => {\n",
       "           facets_iframe.setAttribute('height', facets_iframe.contentWindow.document.body.offsetHeight + 'px')\n",
       "         }, 1500)\n",
       "         </script>"
      ],
      "text/plain": [
       "<IPython.core.display.HTML object>"
      ]
     },
     "metadata": {},
     "output_type": "display_data"
    }
   ],
   "source": [
    "tfdv.visualize_statistics(lhs_statistics=X_test_df_stats, rhs_statistics=X_train_df_stats,lhs_name='TEST_DATASET', rhs_name='TRAIN_DATASET')"
   ]
  },
  {
   "cell_type": "code",
   "execution_count": 45,
   "metadata": {
    "id": "GJbKfFwtJQWs"
   },
   "outputs": [],
   "source": [
    "eval_anomalies = tfdv.validate_statistics(statistics=X_test_df_stats, schema=schema)"
   ]
  },
  {
   "cell_type": "code",
   "execution_count": 46,
   "metadata": {
    "colab": {
     "base_uri": "https://localhost:8080/",
     "height": 57
    },
    "id": "e0IaLDuSJ1wU",
    "outputId": "fd78f1d5-b7ea-47d0-ec3e-915d691871ba"
   },
   "outputs": [
    {
     "data": {
      "text/html": [
       "<h4 style=\"color:green;\">No anomalies found.</h4>"
      ],
      "text/plain": [
       "<IPython.core.display.HTML object>"
      ]
     },
     "metadata": {},
     "output_type": "display_data"
    }
   ],
   "source": [
    "tfdv.display_anomalies(eval_anomalies)"
   ]
  }
 ],
 "metadata": {
  "colab": {
   "collapsed_sections": [],
   "name": "diabetes_classification_neural.ipynb",
   "provenance": []
  },
  "kernelspec": {
   "display_name": "Python 3 (ipykernel)",
   "language": "python",
   "name": "python3"
  },
  "language_info": {
   "codemirror_mode": {
    "name": "ipython",
    "version": 3
   },
   "file_extension": ".py",
   "mimetype": "text/x-python",
   "name": "python",
   "nbconvert_exporter": "python",
   "pygments_lexer": "ipython3",
   "version": "3.9.7"
  }
 },
 "nbformat": 4,
 "nbformat_minor": 1
}
